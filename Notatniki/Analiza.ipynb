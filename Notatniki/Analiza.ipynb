{
 "cells": [
  {
   "cell_type": "code",
   "execution_count": 115,
   "metadata": {},
   "outputs": [],
   "source": [
    "import pandas as pd\n",
    "import numpy as np"
   ]
  },
  {
   "cell_type": "code",
   "execution_count": 11,
   "metadata": {},
   "outputs": [],
   "source": [
    "df = pd.read_csv('./data/kp-data-new.csv')"
   ]
  },
  {
   "cell_type": "code",
   "execution_count": 18,
   "metadata": {},
   "outputs": [
    {
     "data": {
      "text/html": [
       "<div>\n",
       "<style scoped>\n",
       "    .dataframe tbody tr th:only-of-type {\n",
       "        vertical-align: middle;\n",
       "    }\n",
       "\n",
       "    .dataframe tbody tr th {\n",
       "        vertical-align: top;\n",
       "    }\n",
       "\n",
       "    .dataframe thead th {\n",
       "        text-align: right;\n",
       "    }\n",
       "</style>\n",
       "<table border=\"1\" class=\"dataframe\">\n",
       "  <thead>\n",
       "    <tr style=\"text-align: right;\">\n",
       "      <th></th>\n",
       "      <th>datetime</th>\n",
       "      <th>Kp</th>\n",
       "      <th>Rounded value</th>\n",
       "      <th>status</th>\n",
       "    </tr>\n",
       "  </thead>\n",
       "  <tbody>\n",
       "    <tr>\n",
       "      <th>0</th>\n",
       "      <td>2016-01-01 00:00:00+00:00</td>\n",
       "      <td>6.000</td>\n",
       "      <td>6</td>\n",
       "      <td>def</td>\n",
       "    </tr>\n",
       "    <tr>\n",
       "      <th>1</th>\n",
       "      <td>2016-01-01 03:00:00+00:00</td>\n",
       "      <td>5.333</td>\n",
       "      <td>5</td>\n",
       "      <td>def</td>\n",
       "    </tr>\n",
       "    <tr>\n",
       "      <th>2</th>\n",
       "      <td>2016-01-01 06:00:00+00:00</td>\n",
       "      <td>5.000</td>\n",
       "      <td>5</td>\n",
       "      <td>def</td>\n",
       "    </tr>\n",
       "    <tr>\n",
       "      <th>3</th>\n",
       "      <td>2016-01-01 09:00:00+00:00</td>\n",
       "      <td>3.333</td>\n",
       "      <td>3</td>\n",
       "      <td>def</td>\n",
       "    </tr>\n",
       "    <tr>\n",
       "      <th>4</th>\n",
       "      <td>2016-01-01 12:00:00+00:00</td>\n",
       "      <td>1.667</td>\n",
       "      <td>2</td>\n",
       "      <td>def</td>\n",
       "    </tr>\n",
       "    <tr>\n",
       "      <th>...</th>\n",
       "      <td>...</td>\n",
       "      <td>...</td>\n",
       "      <td>...</td>\n",
       "      <td>...</td>\n",
       "    </tr>\n",
       "    <tr>\n",
       "      <th>22683</th>\n",
       "      <td>2023-10-06 09:00:00+00:00</td>\n",
       "      <td>1.667</td>\n",
       "      <td>2</td>\n",
       "      <td>pre</td>\n",
       "    </tr>\n",
       "    <tr>\n",
       "      <th>22684</th>\n",
       "      <td>2023-10-06 12:00:00+00:00</td>\n",
       "      <td>1.000</td>\n",
       "      <td>1</td>\n",
       "      <td>pre</td>\n",
       "    </tr>\n",
       "    <tr>\n",
       "      <th>22685</th>\n",
       "      <td>2023-10-06 15:00:00+00:00</td>\n",
       "      <td>1.333</td>\n",
       "      <td>1</td>\n",
       "      <td>pre</td>\n",
       "    </tr>\n",
       "    <tr>\n",
       "      <th>22686</th>\n",
       "      <td>2023-10-06 18:00:00+00:00</td>\n",
       "      <td>1.000</td>\n",
       "      <td>1</td>\n",
       "      <td>pre</td>\n",
       "    </tr>\n",
       "    <tr>\n",
       "      <th>22687</th>\n",
       "      <td>2023-10-06 21:00:00+00:00</td>\n",
       "      <td>3.000</td>\n",
       "      <td>3</td>\n",
       "      <td>pre</td>\n",
       "    </tr>\n",
       "  </tbody>\n",
       "</table>\n",
       "<p>22688 rows × 4 columns</p>\n",
       "</div>"
      ],
      "text/plain": [
       "                        datetime     Kp  Rounded value status\n",
       "0      2016-01-01 00:00:00+00:00  6.000              6    def\n",
       "1      2016-01-01 03:00:00+00:00  5.333              5    def\n",
       "2      2016-01-01 06:00:00+00:00  5.000              5    def\n",
       "3      2016-01-01 09:00:00+00:00  3.333              3    def\n",
       "4      2016-01-01 12:00:00+00:00  1.667              2    def\n",
       "...                          ...    ...            ...    ...\n",
       "22683  2023-10-06 09:00:00+00:00  1.667              2    pre\n",
       "22684  2023-10-06 12:00:00+00:00  1.000              1    pre\n",
       "22685  2023-10-06 15:00:00+00:00  1.333              1    pre\n",
       "22686  2023-10-06 18:00:00+00:00  1.000              1    pre\n",
       "22687  2023-10-06 21:00:00+00:00  3.000              3    pre\n",
       "\n",
       "[22688 rows x 4 columns]"
      ]
     },
     "execution_count": 18,
     "metadata": {},
     "output_type": "execute_result"
    }
   ],
   "source": [
    "df"
   ]
  },
  {
   "cell_type": "code",
   "execution_count": 28,
   "metadata": {},
   "outputs": [
    {
     "data": {
      "text/plain": [
       "<AxesSubplot:xlabel='Rounded value'>"
      ]
     },
     "execution_count": 28,
     "metadata": {},
     "output_type": "execute_result"
    },
    {
     "data": {
      "image/png": "[encoded data removed]",
      "text/plain": [
       "<Figure size 432x288 with 1 Axes>"
      ]
     },
     "metadata": {
      "needs_background": "light"
     },
     "output_type": "display_data"
    }
   ],
   "source": [
    "df['Rounded value'].value_counts().sort_index().plot.bar()"
   ]
  },
  {
   "cell_type": "code",
   "execution_count": 27,
   "metadata": {},
   "outputs": [
    {
     "data": {
      "text/plain": [
       "<AxesSubplot:xlabel='Kp'>"
      ]
     },
     "execution_count": 27,
     "metadata": {},
     "output_type": "execute_result"
    },
    {
     "data": {
      "image/png": "[encoded data removed]",
      "text/plain": [
       "<Figure size 432x288 with 1 Axes>"
      ]
     },
     "metadata": {
      "needs_background": "light"
     },
     "output_type": "display_data"
    }
   ],
   "source": [
    "df.Kp.value_counts().sort_index().plot.bar()"
   ]
  },
  {
   "cell_type": "code",
   "execution_count": 43,
   "metadata": {},
   "outputs": [],
   "source": [
    "lista = []\n",
    "for i, data in df.loc[df['Rounded value'] == 4]['Rounded value'].items():\n",
    "    lista.append([df['Rounded value'].iloc[i-1],df['Rounded value'].iloc[i+1]])\n",
    "\n"
   ]
  },
  {
   "cell_type": "code",
   "execution_count": 44,
   "metadata": {},
   "outputs": [],
   "source": [
    "df['next_row'] = df['Rounded value'].shift(-1)"
   ]
  },
  {
   "cell_type": "code",
   "execution_count": 46,
   "metadata": {},
   "outputs": [],
   "source": [
    "df['jump'] = df['next_row'] - df['Rounded value']"
   ]
  },
  {
   "cell_type": "code",
   "execution_count": 63,
   "metadata": {},
   "outputs": [
    {
     "data": {
      "text/plain": [
       "jump\n",
       " 0.0    0.463658\n",
       "-1.0    0.224490\n",
       " 1.0    0.220523\n",
       " 2.0    0.040993\n",
       "-2.0    0.040552\n",
       " 3.0    0.004849\n",
       "-3.0    0.004099\n",
       "-4.0    0.000309\n",
       " 4.0    0.000264\n",
       " 5.0    0.000220\n",
       "-5.0    0.000044\n",
       "Name: proportion, dtype: float64"
      ]
     },
     "execution_count": 63,
     "metadata": {},
     "output_type": "execute_result"
    }
   ],
   "source": [
    "df['jump'].value_counts(normalize=True)"
   ]
  },
  {
   "cell_type": "code",
   "execution_count": 64,
   "metadata": {},
   "outputs": [
    {
     "data": {
      "text/plain": [
       "22688"
      ]
     },
     "execution_count": 64,
     "metadata": {},
     "output_type": "execute_result"
    }
   ],
   "source": [
    "len(df)"
   ]
  },
  {
   "cell_type": "code",
   "execution_count": 61,
   "metadata": {},
   "outputs": [
    {
     "data": {
      "text/plain": [
       "0        NaN\n",
       "1        NaN\n",
       "2        NaN\n",
       "3        NaN\n",
       "4        4.2\n",
       "        ... \n",
       "22683    2.0\n",
       "22684    1.8\n",
       "22685    1.6\n",
       "22686    1.4\n",
       "22687    1.6\n",
       "Name: Rounded value, Length: 22688, dtype: float64"
      ]
     },
     "execution_count": 61,
     "metadata": {},
     "output_type": "execute_result"
    }
   ],
   "source": [
    "df['Rounded value'].rolling(5).mean()"
   ]
  },
  {
   "cell_type": "code",
   "execution_count": 65,
   "metadata": {},
   "outputs": [
    {
     "data": {
      "text/plain": [
       "Rounded value\n",
       "1    0.337579\n",
       "2    0.240391\n",
       "0    0.192833\n",
       "3    0.144041\n",
       "4    0.059767\n",
       "5    0.019482\n",
       "6    0.004760\n",
       "7    0.000837\n",
       "8    0.000309\n",
       "Name: proportion, dtype: float64"
      ]
     },
     "execution_count": 65,
     "metadata": {},
     "output_type": "execute_result"
    }
   ],
   "source": [
    "df['Rounded value'].value_counts(normalize=True)"
   ]
  },
  {
   "cell_type": "code",
   "execution_count": 68,
   "metadata": {},
   "outputs": [
    {
     "data": {
      "text/plain": [
       "Rounded value\n",
       "1.000000    0.134576\n",
       "0.666667    0.118090\n",
       "1.333333    0.115313\n",
       "1.666667    0.100547\n",
       "0.333333    0.094067\n",
       "2.000000    0.085780\n",
       "2.333333    0.073658\n",
       "0.000000    0.064665\n",
       "2.666667    0.063034\n",
       "3.000000    0.046769\n",
       "3.333333    0.034250\n",
       "3.666667    0.024332\n",
       "4.000000    0.016530\n",
       "4.333333    0.011681\n",
       "4.666667    0.006744\n",
       "5.000000    0.004320\n",
       "5.333333    0.002380\n",
       "5.666667    0.001278\n",
       "6.000000    0.000926\n",
       "6.333333    0.000353\n",
       "7.000000    0.000264\n",
       "6.666667    0.000264\n",
       "7.333333    0.000176\n",
       "Name: proportion, dtype: float64"
      ]
     },
     "execution_count": 68,
     "metadata": {},
     "output_type": "execute_result"
    }
   ],
   "source": [
    "df['Rounded value'].rolling(3).mean().value_counts(3)"
   ]
  },
  {
   "cell_type": "code",
   "execution_count": 78,
   "metadata": {},
   "outputs": [],
   "source": [
    "df_16 = pd.read_csv(\"./data/data_2016.csv\")"
   ]
  },
  {
   "cell_type": "code",
   "execution_count": 80,
   "metadata": {},
   "outputs": [],
   "source": [
    "df_16.drop(columns=['Unnamed: 0'],inplace=True,axis=1)"
   ]
  },
  {
   "cell_type": "code",
   "execution_count": 82,
   "metadata": {},
   "outputs": [
    {
     "ename": "ValueError",
     "evalue": "Cannot set a DataFrame with multiple columns to the single column interesting_flag",
     "output_type": "error",
     "traceback": [
      "\u001b[1;31m---------------------------------------------------------------------------\u001b[0m",
      "\u001b[1;31mValueError\u001b[0m                                Traceback (most recent call last)",
      "\u001b[1;32m~\\AppData\\Local\\Temp/ipykernel_18936/193615468.py\u001b[0m in \u001b[0;36m<module>\u001b[1;34m\u001b[0m\n\u001b[1;32m----> 1\u001b[1;33m \u001b[0mdf_16\u001b[0m\u001b[1;33m[\u001b[0m\u001b[1;34m'interesting_flag'\u001b[0m\u001b[1;33m]\u001b[0m \u001b[1;33m=\u001b[0m \u001b[0mdf\u001b[0m\u001b[1;33m.\u001b[0m\u001b[0miloc\u001b[0m\u001b[1;33m[\u001b[0m\u001b[1;36m4\u001b[0m\u001b[1;33m:\u001b[0m\u001b[1;36m53\u001b[0m\u001b[1;33m]\u001b[0m\u001b[1;33m\u001b[0m\u001b[1;33m\u001b[0m\u001b[0m\n\u001b[0m",
      "\u001b[1;32m~\\AppData\\Roaming\\Python\\Python39\\site-packages\\pandas\\core\\frame.py\u001b[0m in \u001b[0;36m__setitem__\u001b[1;34m(self, key, value)\u001b[0m\n\u001b[0;32m   3938\u001b[0m             \u001b[0mself\u001b[0m\u001b[1;33m.\u001b[0m\u001b[0m_setitem_array\u001b[0m\u001b[1;33m(\u001b[0m\u001b[0mkey\u001b[0m\u001b[1;33m,\u001b[0m \u001b[0mvalue\u001b[0m\u001b[1;33m)\u001b[0m\u001b[1;33m\u001b[0m\u001b[1;33m\u001b[0m\u001b[0m\n\u001b[0;32m   3939\u001b[0m         \u001b[1;32melif\u001b[0m \u001b[0misinstance\u001b[0m\u001b[1;33m(\u001b[0m\u001b[0mvalue\u001b[0m\u001b[1;33m,\u001b[0m \u001b[0mDataFrame\u001b[0m\u001b[1;33m)\u001b[0m\u001b[1;33m:\u001b[0m\u001b[1;33m\u001b[0m\u001b[1;33m\u001b[0m\u001b[0m\n\u001b[1;32m-> 3940\u001b[1;33m             \u001b[0mself\u001b[0m\u001b[1;33m.\u001b[0m\u001b[0m_set_item_frame_value\u001b[0m\u001b[1;33m(\u001b[0m\u001b[0mkey\u001b[0m\u001b[1;33m,\u001b[0m \u001b[0mvalue\u001b[0m\u001b[1;33m)\u001b[0m\u001b[1;33m\u001b[0m\u001b[1;33m\u001b[0m\u001b[0m\n\u001b[0m\u001b[0;32m   3941\u001b[0m         elif (\n\u001b[0;32m   3942\u001b[0m             \u001b[0mis_list_like\u001b[0m\u001b[1;33m(\u001b[0m\u001b[0mvalue\u001b[0m\u001b[1;33m)\u001b[0m\u001b[1;33m\u001b[0m\u001b[1;33m\u001b[0m\u001b[0m\n",
      "\u001b[1;32m~\\AppData\\Roaming\\Python\\Python39\\site-packages\\pandas\\core\\frame.py\u001b[0m in \u001b[0;36m_set_item_frame_value\u001b[1;34m(self, key, value)\u001b[0m\n\u001b[0;32m   4092\u001b[0m \u001b[1;33m\u001b[0m\u001b[0m\n\u001b[0;32m   4093\u001b[0m         \u001b[1;32mif\u001b[0m \u001b[0mlen\u001b[0m\u001b[1;33m(\u001b[0m\u001b[0mvalue\u001b[0m\u001b[1;33m.\u001b[0m\u001b[0mcolumns\u001b[0m\u001b[1;33m)\u001b[0m \u001b[1;33m!=\u001b[0m \u001b[1;36m1\u001b[0m\u001b[1;33m:\u001b[0m\u001b[1;33m\u001b[0m\u001b[1;33m\u001b[0m\u001b[0m\n\u001b[1;32m-> 4094\u001b[1;33m             raise ValueError(\n\u001b[0m\u001b[0;32m   4095\u001b[0m                 \u001b[1;34m\"Cannot set a DataFrame with multiple columns to the single \"\u001b[0m\u001b[1;33m\u001b[0m\u001b[1;33m\u001b[0m\u001b[0m\n\u001b[0;32m   4096\u001b[0m                 \u001b[1;34mf\"column {key}\"\u001b[0m\u001b[1;33m\u001b[0m\u001b[1;33m\u001b[0m\u001b[0m\n",
      "\u001b[1;31mValueError\u001b[0m: Cannot set a DataFrame with multiple columns to the single column interesting_flag"
     ]
    }
   ],
   "source": [
    "df_16['interesting_flag'] = "
   ]
  },
  {
   "cell_type": "code",
   "execution_count": 144,
   "metadata": {},
   "outputs": [],
   "source": [
    "df_16['more_data_flag_2'] = df_16.iloc[:,28:49].apply(lambda x: False if sum(x) == 0 else True,axis=1)"
   ]
  },
  {
   "cell_type": "code",
   "execution_count": 141,
   "metadata": {},
   "outputs": [
    {
     "data": {
      "text/plain": [
       "k_index_target\n",
       "1    0.266805\n",
       "2    0.223238\n",
       "3    0.212141\n",
       "0    0.142754\n",
       "4    0.107634\n",
       "5    0.038606\n",
       "6    0.008821\n",
       "Name: proportion, dtype: float64"
      ]
     },
     "execution_count": 141,
     "metadata": {},
     "output_type": "execute_result"
    }
   ],
   "source": [
    "df_16.loc[df_16.more_data_flag == True].k_index_target.value_counts(normalize=True)"
   ]
  },
  {
   "cell_type": "code",
   "execution_count": 142,
   "metadata": {},
   "outputs": [
    {
     "data": {
      "text/plain": [
       " 3.0     0.199255\n",
       " 4.0     0.172296\n",
       " 2.0     0.151993\n",
       " 1.0     0.113024\n",
       " 5.0     0.105663\n",
       " 0.0     0.062626\n",
       " 6.0     0.057314\n",
       " 7.0     0.034241\n",
       "-1.0     0.030502\n",
       " 8.0     0.020941\n",
       "-2.0     0.011648\n",
       " 9.0     0.009991\n",
       " 10.0    0.006354\n",
       " 11.0    0.004841\n",
       " 12.0    0.004067\n",
       "-3.0     0.003173\n",
       " 13.0    0.002373\n",
       " 16.0    0.001173\n",
       " 14.0    0.001109\n",
       " 15.0    0.001079\n",
       " 17.0    0.001030\n",
       " 22.0    0.000755\n",
       " 23.0    0.000706\n",
       " 19.0    0.000698\n",
       " 18.0    0.000687\n",
       " 20.0    0.000675\n",
       "-4.0     0.000653\n",
       " 21.0    0.000430\n",
       " 24.0    0.000321\n",
       "-5.0     0.000192\n",
       "-6.0     0.000075\n",
       " 27.0    0.000030\n",
       " 33.0    0.000026\n",
       "-7.0     0.000011\n",
       "-8.0     0.000011\n",
       " 26.0    0.000008\n",
       " 25.0    0.000008\n",
       " 31.0    0.000008\n",
       " 28.0    0.000008\n",
       " 35.0    0.000004\n",
       "Name: proportion, dtype: float64"
      ]
     },
     "execution_count": 142,
     "metadata": {},
     "output_type": "execute_result"
    }
   ],
   "source": [
    "df_16.iloc[:,1:4][df_16.more_data_flag].apply(lambda x: None if x.isna().sum() >0  else round(max(x)),axis=1).value_counts(normalize = True)"
   ]
  },
  {
   "cell_type": "code",
   "execution_count": 143,
   "metadata": {},
   "outputs": [
    {
     "data": {
      "text/plain": [
       "more_data_flag\n",
       "True     0.934278\n",
       "False    0.065722\n",
       "Name: proportion, dtype: float64"
      ]
     },
     "execution_count": 143,
     "metadata": {},
     "output_type": "execute_result"
    }
   ],
   "source": [
    "df_16.more_data_flag.value_counts(normalize=True)"
   ]
  },
  {
   "cell_type": "code",
   "execution_count": 148,
   "metadata": {},
   "outputs": [
    {
     "data": {
      "text/html": [
       "<div>\n",
       "<style scoped>\n",
       "    .dataframe tbody tr th:only-of-type {\n",
       "        vertical-align: middle;\n",
       "    }\n",
       "\n",
       "    .dataframe tbody tr th {\n",
       "        vertical-align: top;\n",
       "    }\n",
       "\n",
       "    .dataframe thead th {\n",
       "        text-align: right;\n",
       "    }\n",
       "</style>\n",
       "<table border=\"1\" class=\"dataframe\">\n",
       "  <thead>\n",
       "    <tr style=\"text-align: right;\">\n",
       "      <th></th>\n",
       "      <th>4</th>\n",
       "      <th>5</th>\n",
       "      <th>6</th>\n",
       "      <th>7</th>\n",
       "      <th>8</th>\n",
       "      <th>9</th>\n",
       "      <th>10</th>\n",
       "      <th>11</th>\n",
       "      <th>12</th>\n",
       "      <th>13</th>\n",
       "      <th>...</th>\n",
       "      <th>30</th>\n",
       "      <th>31</th>\n",
       "      <th>32</th>\n",
       "      <th>33</th>\n",
       "      <th>34</th>\n",
       "      <th>35</th>\n",
       "      <th>36</th>\n",
       "      <th>37</th>\n",
       "      <th>38</th>\n",
       "      <th>39</th>\n",
       "    </tr>\n",
       "  </thead>\n",
       "  <tbody>\n",
       "    <tr>\n",
       "      <th>327</th>\n",
       "      <td>0.000</td>\n",
       "      <td>0.000</td>\n",
       "      <td>0.000</td>\n",
       "      <td>131.397</td>\n",
       "      <td>0.000</td>\n",
       "      <td>0.000</td>\n",
       "      <td>0.000</td>\n",
       "      <td>0.000</td>\n",
       "      <td>0.000</td>\n",
       "      <td>0.0000</td>\n",
       "      <td>...</td>\n",
       "      <td>164.762</td>\n",
       "      <td>0.000</td>\n",
       "      <td>0.000</td>\n",
       "      <td>0.000</td>\n",
       "      <td>0.000</td>\n",
       "      <td>0.000</td>\n",
       "      <td>0.000</td>\n",
       "      <td>0.000</td>\n",
       "      <td>0.000</td>\n",
       "      <td>0.000</td>\n",
       "    </tr>\n",
       "    <tr>\n",
       "      <th>328</th>\n",
       "      <td>140.323</td>\n",
       "      <td>106.755</td>\n",
       "      <td>130.997</td>\n",
       "      <td>134.322</td>\n",
       "      <td>127.881</td>\n",
       "      <td>108.309</td>\n",
       "      <td>118.027</td>\n",
       "      <td>115.966</td>\n",
       "      <td>131.001</td>\n",
       "      <td>102.4500</td>\n",
       "      <td>...</td>\n",
       "      <td>158.480</td>\n",
       "      <td>161.013</td>\n",
       "      <td>155.285</td>\n",
       "      <td>158.071</td>\n",
       "      <td>162.295</td>\n",
       "      <td>159.692</td>\n",
       "      <td>169.169</td>\n",
       "      <td>151.225</td>\n",
       "      <td>165.092</td>\n",
       "      <td>168.270</td>\n",
       "    </tr>\n",
       "    <tr>\n",
       "      <th>329</th>\n",
       "      <td>144.051</td>\n",
       "      <td>110.328</td>\n",
       "      <td>126.048</td>\n",
       "      <td>129.171</td>\n",
       "      <td>132.422</td>\n",
       "      <td>117.537</td>\n",
       "      <td>112.194</td>\n",
       "      <td>108.848</td>\n",
       "      <td>133.660</td>\n",
       "      <td>70.1384</td>\n",
       "      <td>...</td>\n",
       "      <td>156.890</td>\n",
       "      <td>159.348</td>\n",
       "      <td>157.589</td>\n",
       "      <td>160.012</td>\n",
       "      <td>160.579</td>\n",
       "      <td>158.953</td>\n",
       "      <td>170.722</td>\n",
       "      <td>152.464</td>\n",
       "      <td>164.997</td>\n",
       "      <td>164.394</td>\n",
       "    </tr>\n",
       "    <tr>\n",
       "      <th>330</th>\n",
       "      <td>137.905</td>\n",
       "      <td>108.456</td>\n",
       "      <td>132.326</td>\n",
       "      <td>124.352</td>\n",
       "      <td>126.488</td>\n",
       "      <td>117.264</td>\n",
       "      <td>116.455</td>\n",
       "      <td>104.946</td>\n",
       "      <td>127.703</td>\n",
       "      <td>91.6063</td>\n",
       "      <td>...</td>\n",
       "      <td>161.496</td>\n",
       "      <td>161.096</td>\n",
       "      <td>153.394</td>\n",
       "      <td>158.500</td>\n",
       "      <td>165.432</td>\n",
       "      <td>160.099</td>\n",
       "      <td>166.090</td>\n",
       "      <td>153.777</td>\n",
       "      <td>165.789</td>\n",
       "      <td>158.237</td>\n",
       "    </tr>\n",
       "    <tr>\n",
       "      <th>331</th>\n",
       "      <td>139.688</td>\n",
       "      <td>112.211</td>\n",
       "      <td>131.186</td>\n",
       "      <td>125.734</td>\n",
       "      <td>126.398</td>\n",
       "      <td>116.180</td>\n",
       "      <td>117.663</td>\n",
       "      <td>107.718</td>\n",
       "      <td>126.388</td>\n",
       "      <td>104.2940</td>\n",
       "      <td>...</td>\n",
       "      <td>161.190</td>\n",
       "      <td>162.258</td>\n",
       "      <td>154.261</td>\n",
       "      <td>157.118</td>\n",
       "      <td>164.691</td>\n",
       "      <td>161.461</td>\n",
       "      <td>167.515</td>\n",
       "      <td>151.916</td>\n",
       "      <td>167.169</td>\n",
       "      <td>160.174</td>\n",
       "    </tr>\n",
       "    <tr>\n",
       "      <th>...</th>\n",
       "      <td>...</td>\n",
       "      <td>...</td>\n",
       "      <td>...</td>\n",
       "      <td>...</td>\n",
       "      <td>...</td>\n",
       "      <td>...</td>\n",
       "      <td>...</td>\n",
       "      <td>...</td>\n",
       "      <td>...</td>\n",
       "      <td>...</td>\n",
       "      <td>...</td>\n",
       "      <td>...</td>\n",
       "      <td>...</td>\n",
       "      <td>...</td>\n",
       "      <td>...</td>\n",
       "      <td>...</td>\n",
       "      <td>...</td>\n",
       "      <td>...</td>\n",
       "      <td>...</td>\n",
       "      <td>...</td>\n",
       "      <td>...</td>\n",
       "    </tr>\n",
       "    <tr>\n",
       "      <th>283675</th>\n",
       "      <td>0.000</td>\n",
       "      <td>0.000</td>\n",
       "      <td>0.000</td>\n",
       "      <td>0.000</td>\n",
       "      <td>0.000</td>\n",
       "      <td>0.000</td>\n",
       "      <td>0.000</td>\n",
       "      <td>0.000</td>\n",
       "      <td>0.000</td>\n",
       "      <td>0.0000</td>\n",
       "      <td>...</td>\n",
       "      <td>707.105</td>\n",
       "      <td>614.609</td>\n",
       "      <td>535.073</td>\n",
       "      <td>491.992</td>\n",
       "      <td>464.946</td>\n",
       "      <td>428.218</td>\n",
       "      <td>422.534</td>\n",
       "      <td>370.468</td>\n",
       "      <td>435.828</td>\n",
       "      <td>433.054</td>\n",
       "    </tr>\n",
       "    <tr>\n",
       "      <th>283676</th>\n",
       "      <td>0.000</td>\n",
       "      <td>0.000</td>\n",
       "      <td>0.000</td>\n",
       "      <td>0.000</td>\n",
       "      <td>0.000</td>\n",
       "      <td>0.000</td>\n",
       "      <td>0.000</td>\n",
       "      <td>0.000</td>\n",
       "      <td>0.000</td>\n",
       "      <td>0.0000</td>\n",
       "      <td>...</td>\n",
       "      <td>697.087</td>\n",
       "      <td>605.416</td>\n",
       "      <td>528.852</td>\n",
       "      <td>490.383</td>\n",
       "      <td>463.461</td>\n",
       "      <td>428.571</td>\n",
       "      <td>422.851</td>\n",
       "      <td>370.310</td>\n",
       "      <td>437.570</td>\n",
       "      <td>433.849</td>\n",
       "    </tr>\n",
       "    <tr>\n",
       "      <th>283677</th>\n",
       "      <td>0.000</td>\n",
       "      <td>0.000</td>\n",
       "      <td>0.000</td>\n",
       "      <td>0.000</td>\n",
       "      <td>0.000</td>\n",
       "      <td>0.000</td>\n",
       "      <td>0.000</td>\n",
       "      <td>0.000</td>\n",
       "      <td>0.000</td>\n",
       "      <td>0.0000</td>\n",
       "      <td>...</td>\n",
       "      <td>670.690</td>\n",
       "      <td>603.712</td>\n",
       "      <td>540.753</td>\n",
       "      <td>491.865</td>\n",
       "      <td>461.852</td>\n",
       "      <td>422.244</td>\n",
       "      <td>423.028</td>\n",
       "      <td>371.797</td>\n",
       "      <td>436.951</td>\n",
       "      <td>433.287</td>\n",
       "    </tr>\n",
       "    <tr>\n",
       "      <th>283678</th>\n",
       "      <td>0.000</td>\n",
       "      <td>0.000</td>\n",
       "      <td>0.000</td>\n",
       "      <td>0.000</td>\n",
       "      <td>0.000</td>\n",
       "      <td>0.000</td>\n",
       "      <td>0.000</td>\n",
       "      <td>0.000</td>\n",
       "      <td>0.000</td>\n",
       "      <td>0.0000</td>\n",
       "      <td>...</td>\n",
       "      <td>752.332</td>\n",
       "      <td>717.049</td>\n",
       "      <td>624.492</td>\n",
       "      <td>518.438</td>\n",
       "      <td>462.156</td>\n",
       "      <td>422.664</td>\n",
       "      <td>424.534</td>\n",
       "      <td>366.614</td>\n",
       "      <td>433.254</td>\n",
       "      <td>430.467</td>\n",
       "    </tr>\n",
       "    <tr>\n",
       "      <th>283679</th>\n",
       "      <td>0.000</td>\n",
       "      <td>0.000</td>\n",
       "      <td>0.000</td>\n",
       "      <td>0.000</td>\n",
       "      <td>0.000</td>\n",
       "      <td>0.000</td>\n",
       "      <td>0.000</td>\n",
       "      <td>0.000</td>\n",
       "      <td>0.000</td>\n",
       "      <td>0.0000</td>\n",
       "      <td>...</td>\n",
       "      <td>725.480</td>\n",
       "      <td>658.016</td>\n",
       "      <td>562.217</td>\n",
       "      <td>488.534</td>\n",
       "      <td>453.852</td>\n",
       "      <td>421.396</td>\n",
       "      <td>420.088</td>\n",
       "      <td>368.845</td>\n",
       "      <td>435.561</td>\n",
       "      <td>432.572</td>\n",
       "    </tr>\n",
       "  </tbody>\n",
       "</table>\n",
       "<p>265036 rows × 36 columns</p>\n",
       "</div>"
      ],
      "text/plain": [
       "              4        5        6        7        8        9       10  \\\n",
       "327       0.000    0.000    0.000  131.397    0.000    0.000    0.000   \n",
       "328     140.323  106.755  130.997  134.322  127.881  108.309  118.027   \n",
       "329     144.051  110.328  126.048  129.171  132.422  117.537  112.194   \n",
       "330     137.905  108.456  132.326  124.352  126.488  117.264  116.455   \n",
       "331     139.688  112.211  131.186  125.734  126.398  116.180  117.663   \n",
       "...         ...      ...      ...      ...      ...      ...      ...   \n",
       "283675    0.000    0.000    0.000    0.000    0.000    0.000    0.000   \n",
       "283676    0.000    0.000    0.000    0.000    0.000    0.000    0.000   \n",
       "283677    0.000    0.000    0.000    0.000    0.000    0.000    0.000   \n",
       "283678    0.000    0.000    0.000    0.000    0.000    0.000    0.000   \n",
       "283679    0.000    0.000    0.000    0.000    0.000    0.000    0.000   \n",
       "\n",
       "             11       12        13  ...       30       31       32       33  \\\n",
       "327       0.000    0.000    0.0000  ...  164.762    0.000    0.000    0.000   \n",
       "328     115.966  131.001  102.4500  ...  158.480  161.013  155.285  158.071   \n",
       "329     108.848  133.660   70.1384  ...  156.890  159.348  157.589  160.012   \n",
       "330     104.946  127.703   91.6063  ...  161.496  161.096  153.394  158.500   \n",
       "331     107.718  126.388  104.2940  ...  161.190  162.258  154.261  157.118   \n",
       "...         ...      ...       ...  ...      ...      ...      ...      ...   \n",
       "283675    0.000    0.000    0.0000  ...  707.105  614.609  535.073  491.992   \n",
       "283676    0.000    0.000    0.0000  ...  697.087  605.416  528.852  490.383   \n",
       "283677    0.000    0.000    0.0000  ...  670.690  603.712  540.753  491.865   \n",
       "283678    0.000    0.000    0.0000  ...  752.332  717.049  624.492  518.438   \n",
       "283679    0.000    0.000    0.0000  ...  725.480  658.016  562.217  488.534   \n",
       "\n",
       "             34       35       36       37       38       39  \n",
       "327       0.000    0.000    0.000    0.000    0.000    0.000  \n",
       "328     162.295  159.692  169.169  151.225  165.092  168.270  \n",
       "329     160.579  158.953  170.722  152.464  164.997  164.394  \n",
       "330     165.432  160.099  166.090  153.777  165.789  158.237  \n",
       "331     164.691  161.461  167.515  151.916  167.169  160.174  \n",
       "...         ...      ...      ...      ...      ...      ...  \n",
       "283675  464.946  428.218  422.534  370.468  435.828  433.054  \n",
       "283676  463.461  428.571  422.851  370.310  437.570  433.849  \n",
       "283677  461.852  422.244  423.028  371.797  436.951  433.287  \n",
       "283678  462.156  422.664  424.534  366.614  433.254  430.467  \n",
       "283679  453.852  421.396  420.088  368.845  435.561  432.572  \n",
       "\n",
       "[265036 rows x 36 columns]"
      ]
     },
     "execution_count": 148,
     "metadata": {},
     "output_type": "execute_result"
    }
   ],
   "source": [
    "df_16.iloc[:,4:40][df_16.more_data_flag]"
   ]
  },
  {
   "cell_type": "code",
   "execution_count": null,
   "metadata": {},
   "outputs": [],
   "source": [
    "df_16"
   ]
  },
  {
   "cell_type": "code",
   "execution_count": 151,
   "metadata": {},
   "outputs": [
    {
     "data": {
      "text/html": [
       "<div>\n",
       "<style scoped>\n",
       "    .dataframe tbody tr th:only-of-type {\n",
       "        vertical-align: middle;\n",
       "    }\n",
       "\n",
       "    .dataframe tbody tr th {\n",
       "        vertical-align: top;\n",
       "    }\n",
       "\n",
       "    .dataframe thead th {\n",
       "        text-align: right;\n",
       "    }\n",
       "</style>\n",
       "<table border=\"1\" class=\"dataframe\">\n",
       "  <thead>\n",
       "    <tr style=\"text-align: right;\">\n",
       "      <th></th>\n",
       "      <th>1</th>\n",
       "      <th>2</th>\n",
       "      <th>3</th>\n",
       "    </tr>\n",
       "  </thead>\n",
       "  <tbody>\n",
       "    <tr>\n",
       "      <th>327</th>\n",
       "      <td>4.01820</td>\n",
       "      <td>-8.14256</td>\n",
       "      <td>-4.15323</td>\n",
       "    </tr>\n",
       "    <tr>\n",
       "      <th>328</th>\n",
       "      <td>3.93622</td>\n",
       "      <td>-8.28317</td>\n",
       "      <td>-3.96634</td>\n",
       "    </tr>\n",
       "    <tr>\n",
       "      <th>329</th>\n",
       "      <td>3.96667</td>\n",
       "      <td>-8.30292</td>\n",
       "      <td>-3.83562</td>\n",
       "    </tr>\n",
       "    <tr>\n",
       "      <th>330</th>\n",
       "      <td>3.64798</td>\n",
       "      <td>-8.59978</td>\n",
       "      <td>-3.49259</td>\n",
       "    </tr>\n",
       "    <tr>\n",
       "      <th>331</th>\n",
       "      <td>3.46245</td>\n",
       "      <td>-8.76184</td>\n",
       "      <td>-3.23501</td>\n",
       "    </tr>\n",
       "    <tr>\n",
       "      <th>...</th>\n",
       "      <td>...</td>\n",
       "      <td>...</td>\n",
       "      <td>...</td>\n",
       "    </tr>\n",
       "    <tr>\n",
       "      <th>283675</th>\n",
       "      <td>-5.92351</td>\n",
       "      <td>3.25329</td>\n",
       "      <td>-2.07272</td>\n",
       "    </tr>\n",
       "    <tr>\n",
       "      <th>283676</th>\n",
       "      <td>-6.10969</td>\n",
       "      <td>2.72681</td>\n",
       "      <td>-1.95783</td>\n",
       "    </tr>\n",
       "    <tr>\n",
       "      <th>283677</th>\n",
       "      <td>-5.78496</td>\n",
       "      <td>-2.02603</td>\n",
       "      <td>-2.64053</td>\n",
       "    </tr>\n",
       "    <tr>\n",
       "      <th>283678</th>\n",
       "      <td>-3.60551</td>\n",
       "      <td>-5.31124</td>\n",
       "      <td>-3.16447</td>\n",
       "    </tr>\n",
       "    <tr>\n",
       "      <th>283679</th>\n",
       "      <td>-4.61841</td>\n",
       "      <td>-4.52630</td>\n",
       "      <td>-3.05202</td>\n",
       "    </tr>\n",
       "  </tbody>\n",
       "</table>\n",
       "<p>265036 rows × 3 columns</p>\n",
       "</div>"
      ],
      "text/plain": [
       "              1        2        3\n",
       "327     4.01820 -8.14256 -4.15323\n",
       "328     3.93622 -8.28317 -3.96634\n",
       "329     3.96667 -8.30292 -3.83562\n",
       "330     3.64798 -8.59978 -3.49259\n",
       "331     3.46245 -8.76184 -3.23501\n",
       "...         ...      ...      ...\n",
       "283675 -5.92351  3.25329 -2.07272\n",
       "283676 -6.10969  2.72681 -1.95783\n",
       "283677 -5.78496 -2.02603 -2.64053\n",
       "283678 -3.60551 -5.31124 -3.16447\n",
       "283679 -4.61841 -4.52630 -3.05202\n",
       "\n",
       "[265036 rows x 3 columns]"
      ]
     },
     "execution_count": 151,
     "metadata": {},
     "output_type": "execute_result"
    }
   ],
   "source": [
    "df_16.iloc[:,1:4][df_16.more_data_flag]"
   ]
  },
  {
   "cell_type": "code",
   "execution_count": 152,
   "metadata": {},
   "outputs": [
    {
     "data": {
      "text/plain": [
       "<AxesSubplot:>"
      ]
     },
     "execution_count": 152,
     "metadata": {},
     "output_type": "execute_result"
    },
    {
     "data": {
      "image/png": "[encoded data removed]",
      "text/plain": [
       "<Figure size 720x720 with 1 Axes>"
      ]
     },
     "metadata": {
      "needs_background": "light"
     },
     "output_type": "display_data"
    }
   ],
   "source": [
    "df_16.iloc[:10000,2].plot(figsize=(10,10))\n",
    "df_16.iloc[:10000,56].plot(figsize=(10,10))"
   ]
  },
  {
   "cell_type": "code",
   "execution_count": 150,
   "metadata": {},
   "outputs": [
    {
     "data": {
      "text/plain": [
       "more_data_flag_2\n",
       "True     0.696817\n",
       "False    0.303183\n",
       "Name: proportion, dtype: float64"
      ]
     },
     "execution_count": 150,
     "metadata": {},
     "output_type": "execute_result"
    }
   ],
   "source": [
    "df_16.more_data_flag_2.value_counts(normalize=True)"
   ]
  },
  {
   "cell_type": "code",
   "execution_count": null,
   "metadata": {},
   "outputs": [],
   "source": []
  }
 ],
 "metadata": {
  "kernelspec": {
   "display_name": "Python 3",
   "language": "python",
   "name": "python3"
  },
  "language_info": {
   "codemirror_mode": {
    "name": "ipython",
    "version": 3
   },
   "file_extension": ".py",
   "mimetype": "text/x-python",
   "name": "python",
   "nbconvert_exporter": "python",
   "pygments_lexer": "ipython3",
   "version": "3.9.7"
  }
 },
 "nbformat": 4,
 "nbformat_minor": 2
}
