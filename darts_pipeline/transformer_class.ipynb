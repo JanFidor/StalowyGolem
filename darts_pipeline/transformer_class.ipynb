{
 "cells": [
  {
   "cell_type": "code",
   "execution_count": 1,
   "outputs": [],
   "source": [
    "import torch.nn.functional as F\n",
    "import torch\n",
    "import pandas as pd\n",
    "import os"
   ],
   "metadata": {
    "collapsed": false
   }
  },
  {
   "cell_type": "code",
   "execution_count": 2,
   "outputs": [],
   "source": [
    "num_classes = 9\n",
    "input_chunk_length = 120"
   ],
   "metadata": {
    "collapsed": false
   }
  },
  {
   "cell_type": "code",
   "execution_count": 3,
   "outputs": [],
   "source": [
    "def dscovr_df(filename):\n",
    "    df = pd.read_csv(os.path.join(os.path.curdir, \"data\", filename))\n",
    "    df = df.drop(columns=[\"Unnamed: 0.1\", \"Unnamed: 0\"])\n",
    "    df.index = df[\"0\"]\n",
    "    return df.drop(columns=\"0\")\n",
    "# print(dscovr_df(\"data_2016.csv\")[\"k_index_target\"].unique().size)"
   ],
   "metadata": {
    "collapsed": false
   }
  },
  {
   "cell_type": "code",
   "execution_count": 4,
   "outputs": [
    {
     "name": "stderr",
     "output_type": "stream",
     "text": [
      "100%|██████████| 10000/10000 [00:00<00:00, 47528.66it/s]\n",
      "100%|██████████| 10000/10000 [00:00<00:00, 36810.51it/s]\n"
     ]
    }
   ],
   "source": [
    "from dscovr_dataset import create_dscovr_dataset\n",
    "import torch.utils.data as data\n",
    "import torch.nn as nn\n",
    "import torch.optim as optim\n",
    "import pandas as pd\n",
    "\n",
    "train_df = dscovr_df(\"data_2017.csv\")\n",
    "X_train, y_train = create_dscovr_dataset(train_df.to_numpy(), lookback=input_chunk_length, num_classes=num_classes)\n",
    "data_train = data.TensorDataset(X_train, y_train)\n",
    "\n",
    "test_df = dscovr_df(\"data_2021.csv\")\n",
    "X_test, y_test = create_dscovr_dataset(test_df.to_numpy(), lookback=input_chunk_length, num_classes=num_classes)\n",
    "data_test = data.TensorDataset(X_test, y_test)\n",
    "\n",
    "batch_size = 32\n",
    "train_loader = data.DataLoader(data_train, shuffle=True, batch_size=batch_size)\n",
    "test_loader = data.DataLoader(data_test, shuffle=True, batch_size=batch_size * 8)"
   ],
   "metadata": {
    "collapsed": false
   }
  },
  {
   "cell_type": "code",
   "execution_count": 5,
   "outputs": [],
   "source": [
    "from transformer_classifier import TransformerClassifier\n",
    "model = TransformerClassifier(\n",
    "    num_classes=num_classes,\n",
    "    input_chunk_length = input_chunk_length,\n",
    "    d_model = 64,\n",
    "    input_dim=54,\n",
    "    nhead = 8,\n",
    "    dim_feedforward = 1024,\n",
    "    num_layers = 3,\n",
    "    dropout = 0.5,\n",
    "    activation = \"relu\",\n",
    "    classifier_dropout = 0.4,\n",
    ").to(device=\"cuda\")\n",
    "loss_fn = nn.CrossEntropyLoss()\n",
    "optimizer = optim.Adam(model.parameters())"
   ],
   "metadata": {
    "collapsed": false
   }
  },
  {
   "cell_type": "code",
   "execution_count": null,
   "outputs": [
    {
     "name": "stderr",
     "output_type": "stream",
     "text": [
      "100%|██████████| 313/313 [00:29<00:00, 10.61it/s]\n"
     ]
    },
    {
     "name": "stdout",
     "output_type": "stream",
     "text": [
      "For index 0: precision: 0.240814696485623 recall: 0.240814696485623 loss: 2.074426086900423\n",
      "--------------------------------\n"
     ]
    },
    {
     "name": "stderr",
     "output_type": "stream",
     "text": [
      "100%|██████████| 313/313 [00:29<00:00, 10.61it/s]\n"
     ]
    },
    {
     "name": "stdout",
     "output_type": "stream",
     "text": [
      "For index 1: precision: 0.24930111821086262 recall: 0.24930111821086262 loss: 2.069230978243413\n",
      "--------------------------------\n"
     ]
    },
    {
     "name": "stderr",
     "output_type": "stream",
     "text": [
      "100%|██████████| 313/313 [00:29<00:00, 10.60it/s]\n"
     ]
    },
    {
     "name": "stdout",
     "output_type": "stream",
     "text": [
      "For index 2: precision: 0.24930111821086262 recall: 0.24930111821086262 loss: 2.0674910128535386\n",
      "--------------------------------\n"
     ]
    },
    {
     "name": "stderr",
     "output_type": "stream",
     "text": [
      "100%|██████████| 313/313 [00:29<00:00, 10.56it/s]\n"
     ]
    },
    {
     "name": "stdout",
     "output_type": "stream",
     "text": [
      "For index 3: precision: 0.2437100638977636 recall: 0.2437100638977636 loss: 2.0731636860432148\n",
      "--------------------------------\n"
     ]
    },
    {
     "name": "stderr",
     "output_type": "stream",
     "text": [
      " 60%|██████    | 188/313 [00:17<00:11, 10.52it/s]"
     ]
    }
   ],
   "source": [
    "from tqdm import tqdm\n",
    "from torchmetrics.functional import precision, recall\n",
    "\n",
    "n_epochs = 20\n",
    "for epoch in range(n_epochs):\n",
    "    model.train()\n",
    "    prec, rec = [], []\n",
    "    run_loss = 0\n",
    "    for X_batch, y_batch in tqdm(train_loader):\n",
    "        X_batch, y_batch = X_batch.to(device=\"cuda\"), y_batch.to(device=\"cuda\", dtype=torch.float)\n",
    "        y_pred = model(X_batch)\n",
    "\n",
    "        optimizer.zero_grad()\n",
    "        loss = loss_fn(y_pred, y_batch)\n",
    "\n",
    "        y_pred = y_pred.argmax(dim=1)\n",
    "        y_batch = y_batch.argmax(dim=1)\n",
    "        curr_prec = precision(y_pred, y_batch, \"multiclass\", num_classes=num_classes, average=\"micro\")\n",
    "        curr_rec = recall(y_pred, y_batch, \"multiclass\", num_classes=num_classes, average=\"micro\")\n",
    "        run_loss += loss.item()\n",
    "        prec.append(curr_prec.item())\n",
    "        rec.append(curr_rec.item())\n",
    "\n",
    "        loss.backward()\n",
    "        optimizer.step()\n",
    "    print(f\"For index {epoch}: precision: {sum(prec)/len(prec)} recall: {sum(rec)/len(rec)} loss: {run_loss / len(train_loader)}\")\n",
    "    print(\"--------------------------------\")\n",
    "\n",
    "    model.eval()\n",
    "    if epoch % 5 == 4:\n",
    "        prec, rec = [], []\n",
    "        run_loss = 0\n",
    "        with torch.no_grad():\n",
    "            for i, (inputs, targets) in tqdm(enumerate(test_loader)):\n",
    "                inputs, targets = inputs.to(device=\"cuda\"), targets.to(device=\"cuda\")\n",
    "                y_pred = model(inputs)\n",
    "\n",
    "                y_pred = y_pred.argmax(dim=1)\n",
    "                targets = targets.argmax(dim=1)\n",
    "                curr_prec = precision(y_pred, targets, \"multiclass\", num_classes=num_classes, average=\"micro\")\n",
    "                curr_rec = recall(y_pred, targets, \"multiclass\", num_classes=num_classes, average=\"micro\")\n",
    "                run_loss += loss.item()\n",
    "                prec.append(curr_prec.item()), rec.append(curr_rec.item())\n",
    "\n",
    "        # Print accuracy\n",
    "        print(f\"For test: precision: {sum(prec)/len(prec)} recall: {sum(rec)/len(rec)} loss: {run_loss / len(test_loader)}\")\n",
    "        print(\"--------------------------------\")"
   ],
   "metadata": {
    "collapsed": false,
    "pycharm": {
     "is_executing": true
    }
   }
  },
  {
   "cell_type": "code",
   "execution_count": null,
   "outputs": [],
   "source": [
    "from torchmetrics.functional import precision\n",
    "preds  = torch.tensor([[1, 0], [1, 0], [1, 0], [1, 0]])\n",
    "target = torch.tensor([[1, 0], [1, 0], [1, 0], [1, 0]])\n",
    "print(precision(preds, target, task=\"multiclass\", average='micro', num_classes=2))\n",
    "# precision(preds, target, average='micro')"
   ],
   "metadata": {
    "collapsed": false,
    "pycharm": {
     "is_executing": true
    }
   }
  },
  {
   "cell_type": "code",
   "execution_count": null,
   "outputs": [],
   "source": [],
   "metadata": {
    "collapsed": false,
    "pycharm": {
     "is_executing": true
    }
   }
  },
  {
   "cell_type": "code",
   "execution_count": null,
   "outputs": [],
   "source": [],
   "metadata": {
    "collapsed": false,
    "pycharm": {
     "is_executing": true
    }
   }
  }
 ],
 "metadata": {
  "kernelspec": {
   "display_name": "Python 3",
   "language": "python",
   "name": "python3"
  },
  "language_info": {
   "codemirror_mode": {
    "name": "ipython",
    "version": 2
   },
   "file_extension": ".py",
   "mimetype": "text/x-python",
   "name": "python",
   "nbconvert_exporter": "python",
   "pygments_lexer": "ipython2",
   "version": "2.7.6"
  }
 },
 "nbformat": 4,
 "nbformat_minor": 0
}
