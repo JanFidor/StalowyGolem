{
 "cells": [
  {
   "cell_type": "code",
   "execution_count": 1,
   "outputs": [],
   "source": [
    "import torch.nn.functional as F\n",
    "import torch\n",
    "import pandas as pd\n",
    "import os"
   ],
   "metadata": {
    "collapsed": false
   }
  },
  {
   "cell_type": "code",
   "execution_count": 2,
   "outputs": [],
   "source": [
    "num_classes = 9\n",
    "input_chunk_length = 120"
   ],
   "metadata": {
    "collapsed": false
   }
  },
  {
   "cell_type": "code",
   "execution_count": 3,
   "outputs": [],
   "source": [
    "def dscovr_df(filename):\n",
    "    df = pd.read_csv(os.path.join(os.path.curdir, \"data\", filename))\n",
    "    df = df.drop(columns=[\"Unnamed: 0.1\", \"Unnamed: 0\"])\n",
    "    df.index = df[\"0\"]\n",
    "    return df.drop(columns=\"0\")\n",
    "# print(dscovr_df(\"data_2016.csv\")[\"k_index_target\"].unique().size)"
   ],
   "metadata": {
    "collapsed": false
   }
  },
  {
   "cell_type": "code",
   "execution_count": 4,
   "outputs": [
    {
     "name": "stderr",
     "output_type": "stream",
     "text": [
      "100%|██████████| 10000/10000 [00:00<00:00, 31635.36it/s]\n",
      "100%|██████████| 4410/4410 [00:00<00:00, 68978.32it/s]\n"
     ]
    }
   ],
   "source": [
    "from dscovr_dataset import create_dscovr_dataset\n",
    "import torch.utils.data as data\n",
    "import torch.nn as nn\n",
    "import torch.optim as optim\n",
    "import pandas as pd\n",
    "\n",
    "train_df = dscovr_df(\"data_2017.csv\")\n",
    "X_train, y_train = create_dscovr_dataset(train_df.to_numpy(), lookback=input_chunk_length, num_classes=num_classes)\n",
    "data_train = data.TensorDataset(X_train, y_train)\n",
    "\n",
    "test_df = dscovr_df(\"data_2020.csv\")\n",
    "X_test, y_test = create_dscovr_dataset(test_df.to_numpy(), lookback=input_chunk_length, num_classes=num_classes)\n",
    "data_test = data.TensorDataset(X_test, y_test)\n",
    "\n",
    "batch_size = 32\n",
    "train_loader = data.DataLoader(data_train, shuffle=True, batch_size=batch_size)\n",
    "test_loader = data.DataLoader(data_test, shuffle=True, batch_size=batch_size * 8)"
   ],
   "metadata": {
    "collapsed": false
   }
  },
  {
   "cell_type": "code",
   "execution_count": 5,
   "outputs": [],
   "source": [
    "from transformer_classifier import TransformerClassifier\n",
    "model = TransformerClassifier(\n",
    "    num_classes=num_classes,\n",
    "    input_chunk_length = input_chunk_length,\n",
    "    d_model = 64,\n",
    "    input_dim=54,\n",
    "    nhead = 8,\n",
    "    dim_feedforward = 256,\n",
    "    num_layers = 4,\n",
    "    dropout = 0.5,\n",
    "    activation = \"relu\",\n",
    "    classifier_dropout = 0.5,\n",
    ").to(device=\"cuda\")\n",
    "loss_fn = nn.CrossEntropyLoss()\n",
    "optimizer = optim.Adam(model.parameters(), lr=3e-5)"
   ],
   "metadata": {
    "collapsed": false
   }
  },
  {
   "cell_type": "code",
   "execution_count": 6,
   "outputs": [
    {
     "name": "stderr",
     "output_type": "stream",
     "text": [
      "100%|██████████| 302/302 [00:23<00:00, 13.10it/s]\n"
     ]
    },
    {
     "name": "stdout",
     "output_type": "stream",
     "text": [
      "For index 0: precision: 0.22721151977974846 recall: 0.15172735342620225 acc: 0.15172735342620225\n",
      "--------------------------------\n"
     ]
    },
    {
     "name": "stderr",
     "output_type": "stream",
     "text": [
      "100%|██████████| 302/302 [00:22<00:00, 13.25it/s]\n"
     ]
    },
    {
     "name": "stdout",
     "output_type": "stream",
     "text": [
      "For index 1: precision: 0.2794771987747475 recall: 0.18005449706010077 acc: 0.18005449706010077\n",
      "--------------------------------\n"
     ]
    },
    {
     "name": "stderr",
     "output_type": "stream",
     "text": [
      "100%|██████████| 302/302 [00:22<00:00, 13.28it/s]\n"
     ]
    },
    {
     "name": "stdout",
     "output_type": "stream",
     "text": [
      "For index 2: precision: 0.2884467894470455 recall: 0.18331830462576537 acc: 0.18331830462576537\n",
      "--------------------------------\n"
     ]
    },
    {
     "name": "stderr",
     "output_type": "stream",
     "text": [
      "100%|██████████| 302/302 [00:22<00:00, 13.27it/s]\n"
     ]
    },
    {
     "name": "stdout",
     "output_type": "stream",
     "text": [
      "For index 3: precision: 0.34313317538787985 recall: 0.20668688483092168 acc: 0.20668688483092168\n",
      "--------------------------------\n"
     ]
    },
    {
     "name": "stderr",
     "output_type": "stream",
     "text": [
      "100%|██████████| 302/302 [00:22<00:00, 13.27it/s]\n"
     ]
    },
    {
     "name": "stdout",
     "output_type": "stream",
     "text": [
      "For index 4: precision: 0.3663358415002065 recall: 0.20898592930953233 acc: 0.20898592930953233\n",
      "--------------------------------\n"
     ]
    },
    {
     "name": "stderr",
     "output_type": "stream",
     "text": [
      "8it [00:01,  4.80it/s]\n"
     ]
    },
    {
     "name": "stdout",
     "output_type": "stream",
     "text": [
      "For test: precision: 0.20031467080116272 recall: 0.1483655944466591 acc: 0.1483655944466591\n",
      "--------------------------------\n"
     ]
    },
    {
     "name": "stderr",
     "output_type": "stream",
     "text": [
      "100%|██████████| 302/302 [00:22<00:00, 13.29it/s]\n"
     ]
    },
    {
     "name": "stdout",
     "output_type": "stream",
     "text": [
      "For index 5: precision: 0.370423645225187 recall: 0.21691730201540405 acc: 0.21691730201540405\n",
      "--------------------------------\n"
     ]
    },
    {
     "name": "stderr",
     "output_type": "stream",
     "text": [
      "100%|██████████| 302/302 [00:22<00:00, 13.27it/s]\n"
     ]
    },
    {
     "name": "stdout",
     "output_type": "stream",
     "text": [
      "For index 6: precision: 0.38160586680304137 recall: 0.21247198741068904 acc: 0.21247198741068904\n",
      "--------------------------------\n"
     ]
    },
    {
     "name": "stderr",
     "output_type": "stream",
     "text": [
      "100%|██████████| 302/302 [00:22<00:00, 13.28it/s]\n"
     ]
    },
    {
     "name": "stdout",
     "output_type": "stream",
     "text": [
      "For index 7: precision: 0.41190002266539644 recall: 0.220831942664373 acc: 0.220831942664373\n",
      "--------------------------------\n"
     ]
    },
    {
     "name": "stderr",
     "output_type": "stream",
     "text": [
      "100%|██████████| 302/302 [00:22<00:00, 13.28it/s]\n"
     ]
    },
    {
     "name": "stdout",
     "output_type": "stream",
     "text": [
      "For index 8: precision: 0.46203969547290674 recall: 0.23832390797848732 acc: 0.23832390797848732\n",
      "--------------------------------\n"
     ]
    },
    {
     "name": "stderr",
     "output_type": "stream",
     "text": [
      "100%|██████████| 302/302 [00:22<00:00, 13.25it/s]\n"
     ]
    },
    {
     "name": "stdout",
     "output_type": "stream",
     "text": [
      "For index 9: precision: 0.46527536479842585 recall: 0.2324209889483373 acc: 0.2324209889483373\n",
      "--------------------------------\n"
     ]
    },
    {
     "name": "stderr",
     "output_type": "stream",
     "text": [
      "8it [00:01,  4.82it/s]\n"
     ]
    },
    {
     "name": "stdout",
     "output_type": "stream",
     "text": [
      "For test: precision: 0.313056331127882 recall: 0.2563162576407194 acc: 0.2563162576407194\n",
      "--------------------------------\n"
     ]
    },
    {
     "name": "stderr",
     "output_type": "stream",
     "text": [
      "100%|██████████| 302/302 [00:22<00:00, 13.26it/s]\n"
     ]
    },
    {
     "name": "stdout",
     "output_type": "stream",
     "text": [
      "For index 10: precision: 0.4839833766123317 recall: 0.24709317796179 acc: 0.24709317796179\n",
      "--------------------------------\n"
     ]
    },
    {
     "name": "stderr",
     "output_type": "stream",
     "text": [
      "100%|██████████| 302/302 [00:22<00:00, 13.28it/s]\n"
     ]
    },
    {
     "name": "stdout",
     "output_type": "stream",
     "text": [
      "For index 11: precision: 0.4769554969096026 recall: 0.24158489136703756 acc: 0.24158489136703756\n",
      "--------------------------------\n"
     ]
    },
    {
     "name": "stderr",
     "output_type": "stream",
     "text": [
      "100%|██████████| 302/302 [00:22<00:00, 13.27it/s]\n"
     ]
    },
    {
     "name": "stdout",
     "output_type": "stream",
     "text": [
      "For index 12: precision: 0.49434266120984854 recall: 0.2522787753961339 acc: 0.2522787753961339\n",
      "--------------------------------\n"
     ]
    },
    {
     "name": "stderr",
     "output_type": "stream",
     "text": [
      "100%|██████████| 302/302 [00:22<00:00, 13.24it/s]\n"
     ]
    },
    {
     "name": "stdout",
     "output_type": "stream",
     "text": [
      "For index 13: precision: 0.4931163349195032 recall: 0.2538663395094556 acc: 0.2538663395094556\n",
      "--------------------------------\n"
     ]
    },
    {
     "name": "stderr",
     "output_type": "stream",
     "text": [
      "100%|██████████| 302/302 [00:23<00:00, 13.11it/s]\n"
     ]
    },
    {
     "name": "stdout",
     "output_type": "stream",
     "text": [
      "For index 14: precision: 0.5087291247994694 recall: 0.2563142664977257 acc: 0.2563142664977257\n",
      "--------------------------------\n"
     ]
    },
    {
     "name": "stderr",
     "output_type": "stream",
     "text": [
      "8it [00:01,  4.70it/s]\n"
     ]
    },
    {
     "name": "stdout",
     "output_type": "stream",
     "text": [
      "For test: precision: 0.35815083235502243 recall: 0.23888385482132435 acc: 0.23888385482132435\n",
      "--------------------------------\n"
     ]
    },
    {
     "name": "stderr",
     "output_type": "stream",
     "text": [
      "100%|██████████| 302/302 [00:23<00:00, 12.92it/s]\n"
     ]
    },
    {
     "name": "stdout",
     "output_type": "stream",
     "text": [
      "For index 15: precision: 0.4972354364118829 recall: 0.25413571216708775 acc: 0.25413571216708775\n",
      "--------------------------------\n"
     ]
    },
    {
     "name": "stderr",
     "output_type": "stream",
     "text": [
      "100%|██████████| 302/302 [00:22<00:00, 13.18it/s]\n"
     ]
    },
    {
     "name": "stdout",
     "output_type": "stream",
     "text": [
      "For index 16: precision: 0.502839968200551 recall: 0.2562616453413537 acc: 0.2562616453413537\n",
      "--------------------------------\n"
     ]
    },
    {
     "name": "stderr",
     "output_type": "stream",
     "text": [
      "100%|██████████| 302/302 [00:22<00:00, 13.19it/s]\n"
     ]
    },
    {
     "name": "stdout",
     "output_type": "stream",
     "text": [
      "For index 17: precision: 0.5141904596362682 recall: 0.25996787520433895 acc: 0.25996787520433895\n",
      "--------------------------------\n"
     ]
    },
    {
     "name": "stderr",
     "output_type": "stream",
     "text": [
      "100%|██████████| 302/302 [00:22<00:00, 13.18it/s]\n"
     ]
    },
    {
     "name": "stdout",
     "output_type": "stream",
     "text": [
      "For index 18: precision: 0.5085417251318496 recall: 0.2583041170130897 acc: 0.2583041170130897\n",
      "--------------------------------\n"
     ]
    },
    {
     "name": "stderr",
     "output_type": "stream",
     "text": [
      "100%|██████████| 302/302 [00:22<00:00, 13.20it/s]\n"
     ]
    },
    {
     "name": "stdout",
     "output_type": "stream",
     "text": [
      "For index 19: precision: 0.5063528802171843 recall: 0.25451561450859567 acc: 0.25451561450859567\n",
      "--------------------------------\n"
     ]
    },
    {
     "name": "stderr",
     "output_type": "stream",
     "text": [
      "8it [00:01,  4.80it/s]\n"
     ]
    },
    {
     "name": "stdout",
     "output_type": "stream",
     "text": [
      "For test: precision: 0.09064322896301746 recall: 0.16643052734434605 acc: 0.16643052734434605\n",
      "--------------------------------\n"
     ]
    },
    {
     "name": "stderr",
     "output_type": "stream",
     "text": [
      "100%|██████████| 302/302 [00:22<00:00, 13.20it/s]\n"
     ]
    },
    {
     "name": "stdout",
     "output_type": "stream",
     "text": [
      "For index 20: precision: 0.5200119550210356 recall: 0.26138558093187036 acc: 0.26138558093187036\n",
      "--------------------------------\n"
     ]
    },
    {
     "name": "stderr",
     "output_type": "stream",
     "text": [
      "100%|██████████| 302/302 [00:22<00:00, 13.19it/s]\n"
     ]
    },
    {
     "name": "stdout",
     "output_type": "stream",
     "text": [
      "For index 21: precision: 0.5299700120624328 recall: 0.26947284558948303 acc: 0.26947284558948303\n",
      "--------------------------------\n"
     ]
    },
    {
     "name": "stderr",
     "output_type": "stream",
     "text": [
      "100%|██████████| 302/302 [00:23<00:00, 13.13it/s]\n"
     ]
    },
    {
     "name": "stdout",
     "output_type": "stream",
     "text": [
      "For index 22: precision: 0.5325616033168028 recall: 0.27270563945963683 acc: 0.27270563945963683\n",
      "--------------------------------\n"
     ]
    },
    {
     "name": "stderr",
     "output_type": "stream",
     "text": [
      "100%|██████████| 302/302 [00:23<00:00, 13.07it/s]\n"
     ]
    },
    {
     "name": "stdout",
     "output_type": "stream",
     "text": [
      "For index 23: precision: 0.5209786904272654 recall: 0.2663251787966845 acc: 0.2663251787966845\n",
      "--------------------------------\n"
     ]
    },
    {
     "name": "stderr",
     "output_type": "stream",
     "text": [
      "100%|██████████| 302/302 [00:23<00:00, 13.12it/s]\n"
     ]
    },
    {
     "name": "stdout",
     "output_type": "stream",
     "text": [
      "For index 24: precision: 0.537222542066053 recall: 0.2709663522657969 acc: 0.2709663522657969\n",
      "--------------------------------\n"
     ]
    },
    {
     "name": "stderr",
     "output_type": "stream",
     "text": [
      "8it [00:01,  4.75it/s]\n"
     ]
    },
    {
     "name": "stdout",
     "output_type": "stream",
     "text": [
      "For test: precision: 0.0974681917577982 recall: 0.17337393201887608 acc: 0.17337393201887608\n",
      "--------------------------------\n"
     ]
    },
    {
     "name": "stderr",
     "output_type": "stream",
     "text": [
      "100%|██████████| 302/302 [00:23<00:00, 13.07it/s]\n"
     ]
    },
    {
     "name": "stdout",
     "output_type": "stream",
     "text": [
      "For index 25: precision: 0.5271403898565185 recall: 0.2692126574007091 acc: 0.2692126574007091\n",
      "--------------------------------\n"
     ]
    },
    {
     "name": "stderr",
     "output_type": "stream",
     "text": [
      "100%|██████████| 302/302 [00:23<00:00, 13.06it/s]\n"
     ]
    },
    {
     "name": "stdout",
     "output_type": "stream",
     "text": [
      "For index 26: precision: 0.5264718082566925 recall: 0.26829549576470396 acc: 0.26829549576470396\n",
      "--------------------------------\n"
     ]
    },
    {
     "name": "stderr",
     "output_type": "stream",
     "text": [
      "100%|██████████| 302/302 [00:22<00:00, 13.16it/s]\n"
     ]
    },
    {
     "name": "stdout",
     "output_type": "stream",
     "text": [
      "For index 27: precision: 0.5401614477598904 recall: 0.2817792976336763 acc: 0.2817792976336763\n",
      "--------------------------------\n"
     ]
    },
    {
     "name": "stderr",
     "output_type": "stream",
     "text": [
      "100%|██████████| 302/302 [00:23<00:00, 13.11it/s]\n"
     ]
    },
    {
     "name": "stdout",
     "output_type": "stream",
     "text": [
      "For index 28: precision: 0.5360113129217103 recall: 0.2715060945032843 acc: 0.2715060945032843\n",
      "--------------------------------\n"
     ]
    },
    {
     "name": "stderr",
     "output_type": "stream",
     "text": [
      "100%|██████████| 302/302 [00:23<00:00, 13.06it/s]\n"
     ]
    },
    {
     "name": "stdout",
     "output_type": "stream",
     "text": [
      "For index 29: precision: 0.546879250383535 recall: 0.2764273668016424 acc: 0.2764273668016424\n",
      "--------------------------------\n"
     ]
    },
    {
     "name": "stderr",
     "output_type": "stream",
     "text": [
      "8it [00:01,  4.74it/s]\n"
     ]
    },
    {
     "name": "stdout",
     "output_type": "stream",
     "text": [
      "For test: precision: 0.1007743226364255 recall: 0.17458654381334782 acc: 0.17458654381334782\n",
      "--------------------------------\n"
     ]
    },
    {
     "name": "stderr",
     "output_type": "stream",
     "text": [
      "100%|██████████| 302/302 [00:22<00:00, 13.15it/s]\n"
     ]
    },
    {
     "name": "stdout",
     "output_type": "stream",
     "text": [
      "For index 30: precision: 0.536917456333211 recall: 0.26951891339279166 acc: 0.26951891339279166\n",
      "--------------------------------\n"
     ]
    },
    {
     "name": "stderr",
     "output_type": "stream",
     "text": [
      "100%|██████████| 302/302 [00:22<00:00, 13.19it/s]\n"
     ]
    },
    {
     "name": "stdout",
     "output_type": "stream",
     "text": [
      "For index 31: precision: 0.5498716424632546 recall: 0.27158006389212136 acc: 0.27158006389212136\n",
      "--------------------------------\n"
     ]
    },
    {
     "name": "stderr",
     "output_type": "stream",
     "text": [
      "100%|██████████| 302/302 [00:22<00:00, 13.20it/s]\n"
     ]
    },
    {
     "name": "stdout",
     "output_type": "stream",
     "text": [
      "For index 32: precision: 0.5397326143964237 recall: 0.2644402275713074 acc: 0.2644402275713074\n",
      "--------------------------------\n"
     ]
    },
    {
     "name": "stderr",
     "output_type": "stream",
     "text": [
      "100%|██████████| 302/302 [00:22<00:00, 13.17it/s]\n"
     ]
    },
    {
     "name": "stdout",
     "output_type": "stream",
     "text": [
      "For index 33: precision: 0.5331396777799587 recall: 0.26834242534361136 acc: 0.26834242534361136\n",
      "--------------------------------\n"
     ]
    },
    {
     "name": "stderr",
     "output_type": "stream",
     "text": [
      "100%|██████████| 302/302 [00:23<00:00, 13.08it/s]\n"
     ]
    },
    {
     "name": "stdout",
     "output_type": "stream",
     "text": [
      "For index 34: precision: 0.5694471952930981 recall: 0.2851633065633032 acc: 0.2851633065633032\n",
      "--------------------------------\n"
     ]
    },
    {
     "name": "stderr",
     "output_type": "stream",
     "text": [
      "8it [00:01,  4.75it/s]\n"
     ]
    },
    {
     "name": "stdout",
     "output_type": "stream",
     "text": [
      "For test: precision: 0.11860364209860563 recall: 0.1760083418339491 acc: 0.1760083418339491\n",
      "--------------------------------\n"
     ]
    },
    {
     "name": "stderr",
     "output_type": "stream",
     "text": [
      "100%|██████████| 302/302 [00:22<00:00, 13.16it/s]\n"
     ]
    },
    {
     "name": "stdout",
     "output_type": "stream",
     "text": [
      "For index 35: precision: 0.5382016161024965 recall: 0.26744665733433715 acc: 0.26744665733433715\n",
      "--------------------------------\n"
     ]
    },
    {
     "name": "stderr",
     "output_type": "stream",
     "text": [
      "100%|██████████| 302/302 [00:23<00:00, 13.07it/s]\n"
     ]
    },
    {
     "name": "stdout",
     "output_type": "stream",
     "text": [
      "For index 36: precision: 0.5527850250337297 recall: 0.2779706336360499 acc: 0.2779706336360499\n",
      "--------------------------------\n"
     ]
    },
    {
     "name": "stderr",
     "output_type": "stream",
     "text": [
      "100%|██████████| 302/302 [00:23<00:00, 13.07it/s]\n"
     ]
    },
    {
     "name": "stdout",
     "output_type": "stream",
     "text": [
      "For index 37: precision: 0.5495932455982594 recall: 0.2747056173123666 acc: 0.2747056173123666\n",
      "--------------------------------\n"
     ]
    },
    {
     "name": "stderr",
     "output_type": "stream",
     "text": [
      "100%|██████████| 302/302 [00:23<00:00, 13.09it/s]\n"
     ]
    },
    {
     "name": "stdout",
     "output_type": "stream",
     "text": [
      "For index 38: precision: 0.538944985840889 recall: 0.2663845404587834 acc: 0.2663845404587834\n",
      "--------------------------------\n"
     ]
    },
    {
     "name": "stderr",
     "output_type": "stream",
     "text": [
      "100%|██████████| 302/302 [00:23<00:00, 13.09it/s]\n"
     ]
    },
    {
     "name": "stdout",
     "output_type": "stream",
     "text": [
      "For index 39: precision: 0.5552817805121276 recall: 0.2813653577341149 acc: 0.2813653577341149\n",
      "--------------------------------\n"
     ]
    },
    {
     "name": "stderr",
     "output_type": "stream",
     "text": [
      "8it [00:01,  4.71it/s]\n"
     ]
    },
    {
     "name": "stdout",
     "output_type": "stream",
     "text": [
      "For test: precision: 0.1212407685816288 recall: 0.16827768832445145 acc: 0.16827768832445145\n",
      "--------------------------------\n"
     ]
    },
    {
     "name": "stderr",
     "output_type": "stream",
     "text": [
      "100%|██████████| 302/302 [00:22<00:00, 13.15it/s]\n"
     ]
    },
    {
     "name": "stdout",
     "output_type": "stream",
     "text": [
      "For index 40: precision: 0.5518396368978039 recall: 0.2750752024007159 acc: 0.2750752024007159\n",
      "--------------------------------\n"
     ]
    },
    {
     "name": "stderr",
     "output_type": "stream",
     "text": [
      "100%|██████████| 302/302 [00:22<00:00, 13.19it/s]\n"
     ]
    },
    {
     "name": "stdout",
     "output_type": "stream",
     "text": [
      "For index 41: precision: 0.5495548184146944 recall: 0.27940943753285125 acc: 0.27940943753285125\n",
      "--------------------------------\n"
     ]
    },
    {
     "name": "stderr",
     "output_type": "stream",
     "text": [
      "100%|██████████| 302/302 [00:22<00:00, 13.18it/s]\n"
     ]
    },
    {
     "name": "stdout",
     "output_type": "stream",
     "text": [
      "For index 42: precision: 0.5437548615482469 recall: 0.2718561691114839 acc: 0.2718561691114839\n",
      "--------------------------------\n"
     ]
    },
    {
     "name": "stderr",
     "output_type": "stream",
     "text": [
      "100%|██████████| 302/302 [00:22<00:00, 13.16it/s]\n"
     ]
    },
    {
     "name": "stdout",
     "output_type": "stream",
     "text": [
      "For index 43: precision: 0.5555935346626288 recall: 0.28226286747696383 acc: 0.28226286747696383\n",
      "--------------------------------\n"
     ]
    },
    {
     "name": "stderr",
     "output_type": "stream",
     "text": [
      "100%|██████████| 302/302 [00:23<00:00, 13.12it/s]\n"
     ]
    },
    {
     "name": "stdout",
     "output_type": "stream",
     "text": [
      "For index 44: precision: 0.5607600404529383 recall: 0.28245437389474043 acc: 0.28245437389474043\n",
      "--------------------------------\n"
     ]
    },
    {
     "name": "stderr",
     "output_type": "stream",
     "text": [
      "8it [00:01,  4.80it/s]\n"
     ]
    },
    {
     "name": "stdout",
     "output_type": "stream",
     "text": [
      "For test: precision: 0.10219340492039919 recall: 0.13532843999564648 acc: 0.13532843999564648\n",
      "--------------------------------\n"
     ]
    },
    {
     "name": "stderr",
     "output_type": "stream",
     "text": [
      "100%|██████████| 302/302 [00:23<00:00, 13.12it/s]\n"
     ]
    },
    {
     "name": "stdout",
     "output_type": "stream",
     "text": [
      "For index 45: precision: 0.5506511156922145 recall: 0.2775328324626613 acc: 0.2775328324626613\n",
      "--------------------------------\n"
     ]
    },
    {
     "name": "stderr",
     "output_type": "stream",
     "text": [
      "100%|██████████| 302/302 [00:23<00:00, 13.11it/s]\n"
     ]
    },
    {
     "name": "stdout",
     "output_type": "stream",
     "text": [
      "For index 46: precision: 0.5512609451713152 recall: 0.274479006225897 acc: 0.274479006225897\n",
      "--------------------------------\n"
     ]
    },
    {
     "name": "stderr",
     "output_type": "stream",
     "text": [
      "100%|██████████| 302/302 [00:23<00:00, 13.11it/s]\n"
     ]
    },
    {
     "name": "stdout",
     "output_type": "stream",
     "text": [
      "For index 47: precision: 0.5679829725563921 recall: 0.2829793150357853 acc: 0.2829793150357853\n",
      "--------------------------------\n"
     ]
    },
    {
     "name": "stderr",
     "output_type": "stream",
     "text": [
      "100%|██████████| 302/302 [00:23<00:00, 13.11it/s]\n"
     ]
    },
    {
     "name": "stdout",
     "output_type": "stream",
     "text": [
      "For index 48: precision: 0.5634219154024755 recall: 0.2871630335140307 acc: 0.2871630335140307\n",
      "--------------------------------\n"
     ]
    },
    {
     "name": "stderr",
     "output_type": "stream",
     "text": [
      "100%|██████████| 302/302 [00:23<00:00, 13.12it/s]\n"
     ]
    },
    {
     "name": "stdout",
     "output_type": "stream",
     "text": [
      "For index 49: precision: 0.5817879694976554 recall: 0.3032151830709533 acc: 0.3032151830709533\n",
      "--------------------------------\n"
     ]
    },
    {
     "name": "stderr",
     "output_type": "stream",
     "text": [
      "8it [00:01,  4.78it/s]"
     ]
    },
    {
     "name": "stdout",
     "output_type": "stream",
     "text": [
      "For test: precision: 0.10868454165756702 recall: 0.1326053524389863 acc: 0.1326053524389863\n",
      "--------------------------------\n"
     ]
    },
    {
     "name": "stderr",
     "output_type": "stream",
     "text": [
      "\n"
     ]
    }
   ],
   "source": [
    "from tqdm import tqdm\n",
    "from torchmetrics.functional import precision, recall, accuracy\n",
    "\n",
    "n_epochs = 50\n",
    "for epoch in range(n_epochs):\n",
    "    model.train()\n",
    "    prec, rec, acc = [], [], []\n",
    "    run_loss = 0\n",
    "    for X_batch, y_batch in tqdm(train_loader):\n",
    "        X_batch, y_batch = X_batch.to(device=\"cuda\"), y_batch.to(device=\"cuda\", dtype=torch.float)\n",
    "        y_pred = model(X_batch)\n",
    "\n",
    "        optimizer.zero_grad()\n",
    "        loss = loss_fn(y_pred, y_batch)\n",
    "\n",
    "        y_pred = y_pred.argmax(dim=1)\n",
    "        y_batch = y_batch.argmax(dim=1)\n",
    "        curr_prec = precision(y_pred, y_batch, \"multiclass\", num_classes=num_classes, average=\"macro\")\n",
    "        curr_rec = recall(y_pred, y_batch, \"multiclass\", num_classes=num_classes, average=\"macro\")\n",
    "        curr_acc = accuracy(y_pred, y_batch, \"multiclass\", num_classes=num_classes, average=\"macro\")\n",
    "        prec.append(curr_prec.item()), rec.append(curr_rec.item()), acc.append(curr_acc.item())\n",
    "        run_loss += loss.item()\n",
    "\n",
    "        loss.backward()\n",
    "        optimizer.step()\n",
    "    print(f\"For index {epoch}: precision: {sum(prec)/len(prec)} recall: {sum(rec)/len(rec)} acc: {sum(acc)/len(acc)}\")\n",
    "    print(\"--------------------------------\")\n",
    "\n",
    "    model.eval()\n",
    "    if epoch % 5 == 4:\n",
    "        prec, rec, acc = [], [], []\n",
    "        with torch.no_grad():\n",
    "            for i, (inputs, targets) in tqdm(enumerate(test_loader)):\n",
    "                inputs, targets = inputs.to(device=\"cuda\"), targets.to(device=\"cuda\")\n",
    "                y_pred = model(inputs)\n",
    "\n",
    "                y_pred = y_pred.argmax(dim=1)\n",
    "                targets = targets.argmax(dim=1)\n",
    "                curr_prec = precision(y_pred, targets, \"multiclass\", num_classes=num_classes, average=\"macro\")\n",
    "                curr_rec = recall(y_pred, targets, \"multiclass\", num_classes=num_classes, average=\"macro\")\n",
    "                curr_acc = accuracy(y_pred, targets, \"multiclass\", num_classes=num_classes, average=\"macro\")\n",
    "                prec.append(curr_prec.item()), rec.append(curr_rec.item()), acc.append(curr_acc.item())\n",
    "\n",
    "        # Print accuracy\n",
    "        print(f\"For test: precision: {sum(prec)/len(prec)} recall: {sum(rec)/len(rec)} acc: {sum(acc)/len(acc)}\")\n",
    "        print(\"--------------------------------\")"
   ],
   "metadata": {
    "collapsed": false
   }
  },
  {
   "cell_type": "code",
   "execution_count": 7,
   "outputs": [
    {
     "name": "stdout",
     "output_type": "stream",
     "text": [
      "tensor(1.)\n"
     ]
    }
   ],
   "source": [
    "from torchmetrics.functional import precision\n",
    "preds  = torch.tensor([[1, 0], [1, 0], [1, 0], [1, 0]])\n",
    "target = torch.tensor([[1, 0], [1, 0], [1, 0], [1, 0]])\n",
    "print(precision(preds, target, task=\"multiclass\", average='micro', num_classes=2))\n",
    "# precision(preds, target, average='micro')"
   ],
   "metadata": {
    "collapsed": false
   }
  },
  {
   "cell_type": "code",
   "execution_count": 7,
   "outputs": [],
   "source": [],
   "metadata": {
    "collapsed": false
   }
  }
 ],
 "metadata": {
  "kernelspec": {
   "display_name": "Python 3",
   "language": "python",
   "name": "python3"
  },
  "language_info": {
   "codemirror_mode": {
    "name": "ipython",
    "version": 2
   },
   "file_extension": ".py",
   "mimetype": "text/x-python",
   "name": "python",
   "nbconvert_exporter": "python",
   "pygments_lexer": "ipython2",
   "version": "2.7.6"
  }
 },
 "nbformat": 4,
 "nbformat_minor": 0
}
