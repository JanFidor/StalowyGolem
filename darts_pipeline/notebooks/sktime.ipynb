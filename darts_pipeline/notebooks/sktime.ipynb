{
 "cells": [
  {
   "cell_type": "code",
   "execution_count": 3,
   "outputs": [],
   "source": [
    "from sklearn.linear_model import RidgeClassifierCV\n",
    "from sklearn.model_selection import TimeSeriesSplit\n",
    "from sklearn.pipeline import make_pipeline\n",
    "from sklearn.preprocessing import StandardScaler\n",
    "from sktime.datasets import load_arrow_head  # univariate dataset\n",
    "from sktime.datasets import load_basic_motions  # multivariate dataset\n",
    "from sktime.datasets import (\n",
    "    load_japanese_vowels,  # multivariate dataset with unequal length\n",
    ")\n",
    "from sktime.transformations.panel.rocket import (\n",
    "    MiniRocket,\n",
    "    MiniRocketMultivariate,\n",
    "    MiniRocketMultivariateVariable,\n",
    ")\n",
    "from sktime.forecasting.model_selection import SlidingWindowSplitter\n",
    "from tqdm import tqdm\n",
    "import numpy as np\n",
    "import pandas as pd\n",
    "import os"
   ],
   "metadata": {
    "collapsed": false
   }
  },
  {
   "cell_type": "code",
   "execution_count": 13,
   "outputs": [],
   "source": [
    "cv = SlidingWindowSplitter(window_length=15, fh=1)\n",
    "\n",
    "minirocket_pipeline = make_pipeline(\n",
    "    MiniRocket(),\n",
    "    StandardScaler(with_mean=False),\n",
    "    RidgeClassifierCV(alphas=np.logspace(-3, 3, 10)),\n",
    ")\n"
   ],
   "metadata": {
    "collapsed": false
   }
  },
  {
   "cell_type": "code",
   "execution_count": 14,
   "outputs": [
    {
     "data": {
      "text/plain": "                           1        2         3    4    5    6    7    8    9  \\\n0                                                                               \n2016-01-01 00:00:00  6.83609 -3.37934 -12.92050  0.0  0.0  0.0  0.0  0.0  0.0   \n2016-01-01 00:01:00  6.76732 -3.30194 -12.99670  0.0  0.0  0.0  0.0  0.0  0.0   \n2016-01-01 00:02:00  6.39107 -2.61173 -13.32710  0.0  0.0  0.0  0.0  0.0  0.0   \n2016-01-01 00:03:00  6.44897 -2.61525 -13.32990  0.0  0.0  0.0  0.0  0.0  0.0   \n2016-01-01 00:04:00  6.58758 -2.73082 -13.23610  0.0  0.0  0.0  0.0  0.0  0.0   \n...                      ...      ...       ...  ...  ...  ...  ...  ...  ...   \n2016-12-31 23:55:00 -5.92351  3.25329  -2.07272  0.0  0.0  0.0  0.0  0.0  0.0   \n2016-12-31 23:56:00 -6.10969  2.72681  -1.95783  0.0  0.0  0.0  0.0  0.0  0.0   \n2016-12-31 23:57:00 -5.78496 -2.02603  -2.64053  0.0  0.0  0.0  0.0  0.0  0.0   \n2016-12-31 23:58:00 -3.60551 -5.31124  -3.16447  0.0  0.0  0.0  0.0  0.0  0.0   \n2016-12-31 23:59:00 -4.61841 -4.52630  -3.05202  0.0  0.0  0.0  0.0  0.0  0.0   \n\n                      10  ...   46   47   48   49   50   51   52   53  \\\n0                         ...                                           \n2016-01-01 00:00:00  0.0  ...  0.0  0.0  0.0  0.0  0.0  0.0  0.0  0.0   \n2016-01-01 00:01:00  0.0  ...  0.0  0.0  0.0  0.0  0.0  0.0  0.0  0.0   \n2016-01-01 00:02:00  0.0  ...  0.0  0.0  0.0  0.0  0.0  0.0  0.0  0.0   \n2016-01-01 00:03:00  0.0  ...  0.0  0.0  0.0  0.0  0.0  0.0  0.0  0.0   \n2016-01-01 00:04:00  0.0  ...  0.0  0.0  0.0  0.0  0.0  0.0  0.0  0.0   \n...                  ...  ...  ...  ...  ...  ...  ...  ...  ...  ...   \n2016-12-31 23:55:00  0.0  ...  0.0  0.0  0.0  0.0  0.0  0.0  0.0  0.0   \n2016-12-31 23:56:00  0.0  ...  0.0  0.0  0.0  0.0  0.0  0.0  0.0  0.0   \n2016-12-31 23:57:00  0.0  ...  0.0  0.0  0.0  0.0  0.0  0.0  0.0  0.0   \n2016-12-31 23:58:00  0.0  ...  0.0  0.0  0.0  0.0  0.0  0.0  0.0  0.0   \n2016-12-31 23:59:00  0.0  ...  0.0  0.0  0.0  0.0  0.0  0.0  0.0  0.0   \n\n                     k_index_current  k_index_target  \n0                                                     \n2016-01-01 00:00:00            6.000               5  \n2016-01-01 00:01:00            6.000               5  \n2016-01-01 00:02:00            6.000               5  \n2016-01-01 00:03:00            6.000               5  \n2016-01-01 00:04:00            6.000               5  \n...                              ...             ...  \n2016-12-31 23:55:00            2.667               3  \n2016-12-31 23:56:00            2.667               3  \n2016-12-31 23:57:00            2.667               3  \n2016-12-31 23:58:00            2.667               3  \n2016-12-31 23:59:00            2.667               3  \n\n[283680 rows x 55 columns]",
      "text/html": "<div>\n<style scoped>\n    .dataframe tbody tr th:only-of-type {\n        vertical-align: middle;\n    }\n\n    .dataframe tbody tr th {\n        vertical-align: top;\n    }\n\n    .dataframe thead th {\n        text-align: right;\n    }\n</style>\n<table border=\"1\" class=\"dataframe\">\n  <thead>\n    <tr style=\"text-align: right;\">\n      <th></th>\n      <th>1</th>\n      <th>2</th>\n      <th>3</th>\n      <th>4</th>\n      <th>5</th>\n      <th>6</th>\n      <th>7</th>\n      <th>8</th>\n      <th>9</th>\n      <th>10</th>\n      <th>...</th>\n      <th>46</th>\n      <th>47</th>\n      <th>48</th>\n      <th>49</th>\n      <th>50</th>\n      <th>51</th>\n      <th>52</th>\n      <th>53</th>\n      <th>k_index_current</th>\n      <th>k_index_target</th>\n    </tr>\n    <tr>\n      <th>0</th>\n      <th></th>\n      <th></th>\n      <th></th>\n      <th></th>\n      <th></th>\n      <th></th>\n      <th></th>\n      <th></th>\n      <th></th>\n      <th></th>\n      <th></th>\n      <th></th>\n      <th></th>\n      <th></th>\n      <th></th>\n      <th></th>\n      <th></th>\n      <th></th>\n      <th></th>\n      <th></th>\n      <th></th>\n    </tr>\n  </thead>\n  <tbody>\n    <tr>\n      <th>2016-01-01 00:00:00</th>\n      <td>6.83609</td>\n      <td>-3.37934</td>\n      <td>-12.92050</td>\n      <td>0.0</td>\n      <td>0.0</td>\n      <td>0.0</td>\n      <td>0.0</td>\n      <td>0.0</td>\n      <td>0.0</td>\n      <td>0.0</td>\n      <td>...</td>\n      <td>0.0</td>\n      <td>0.0</td>\n      <td>0.0</td>\n      <td>0.0</td>\n      <td>0.0</td>\n      <td>0.0</td>\n      <td>0.0</td>\n      <td>0.0</td>\n      <td>6.000</td>\n      <td>5</td>\n    </tr>\n    <tr>\n      <th>2016-01-01 00:01:00</th>\n      <td>6.76732</td>\n      <td>-3.30194</td>\n      <td>-12.99670</td>\n      <td>0.0</td>\n      <td>0.0</td>\n      <td>0.0</td>\n      <td>0.0</td>\n      <td>0.0</td>\n      <td>0.0</td>\n      <td>0.0</td>\n      <td>...</td>\n      <td>0.0</td>\n      <td>0.0</td>\n      <td>0.0</td>\n      <td>0.0</td>\n      <td>0.0</td>\n      <td>0.0</td>\n      <td>0.0</td>\n      <td>0.0</td>\n      <td>6.000</td>\n      <td>5</td>\n    </tr>\n    <tr>\n      <th>2016-01-01 00:02:00</th>\n      <td>6.39107</td>\n      <td>-2.61173</td>\n      <td>-13.32710</td>\n      <td>0.0</td>\n      <td>0.0</td>\n      <td>0.0</td>\n      <td>0.0</td>\n      <td>0.0</td>\n      <td>0.0</td>\n      <td>0.0</td>\n      <td>...</td>\n      <td>0.0</td>\n      <td>0.0</td>\n      <td>0.0</td>\n      <td>0.0</td>\n      <td>0.0</td>\n      <td>0.0</td>\n      <td>0.0</td>\n      <td>0.0</td>\n      <td>6.000</td>\n      <td>5</td>\n    </tr>\n    <tr>\n      <th>2016-01-01 00:03:00</th>\n      <td>6.44897</td>\n      <td>-2.61525</td>\n      <td>-13.32990</td>\n      <td>0.0</td>\n      <td>0.0</td>\n      <td>0.0</td>\n      <td>0.0</td>\n      <td>0.0</td>\n      <td>0.0</td>\n      <td>0.0</td>\n      <td>...</td>\n      <td>0.0</td>\n      <td>0.0</td>\n      <td>0.0</td>\n      <td>0.0</td>\n      <td>0.0</td>\n      <td>0.0</td>\n      <td>0.0</td>\n      <td>0.0</td>\n      <td>6.000</td>\n      <td>5</td>\n    </tr>\n    <tr>\n      <th>2016-01-01 00:04:00</th>\n      <td>6.58758</td>\n      <td>-2.73082</td>\n      <td>-13.23610</td>\n      <td>0.0</td>\n      <td>0.0</td>\n      <td>0.0</td>\n      <td>0.0</td>\n      <td>0.0</td>\n      <td>0.0</td>\n      <td>0.0</td>\n      <td>...</td>\n      <td>0.0</td>\n      <td>0.0</td>\n      <td>0.0</td>\n      <td>0.0</td>\n      <td>0.0</td>\n      <td>0.0</td>\n      <td>0.0</td>\n      <td>0.0</td>\n      <td>6.000</td>\n      <td>5</td>\n    </tr>\n    <tr>\n      <th>...</th>\n      <td>...</td>\n      <td>...</td>\n      <td>...</td>\n      <td>...</td>\n      <td>...</td>\n      <td>...</td>\n      <td>...</td>\n      <td>...</td>\n      <td>...</td>\n      <td>...</td>\n      <td>...</td>\n      <td>...</td>\n      <td>...</td>\n      <td>...</td>\n      <td>...</td>\n      <td>...</td>\n      <td>...</td>\n      <td>...</td>\n      <td>...</td>\n      <td>...</td>\n      <td>...</td>\n    </tr>\n    <tr>\n      <th>2016-12-31 23:55:00</th>\n      <td>-5.92351</td>\n      <td>3.25329</td>\n      <td>-2.07272</td>\n      <td>0.0</td>\n      <td>0.0</td>\n      <td>0.0</td>\n      <td>0.0</td>\n      <td>0.0</td>\n      <td>0.0</td>\n      <td>0.0</td>\n      <td>...</td>\n      <td>0.0</td>\n      <td>0.0</td>\n      <td>0.0</td>\n      <td>0.0</td>\n      <td>0.0</td>\n      <td>0.0</td>\n      <td>0.0</td>\n      <td>0.0</td>\n      <td>2.667</td>\n      <td>3</td>\n    </tr>\n    <tr>\n      <th>2016-12-31 23:56:00</th>\n      <td>-6.10969</td>\n      <td>2.72681</td>\n      <td>-1.95783</td>\n      <td>0.0</td>\n      <td>0.0</td>\n      <td>0.0</td>\n      <td>0.0</td>\n      <td>0.0</td>\n      <td>0.0</td>\n      <td>0.0</td>\n      <td>...</td>\n      <td>0.0</td>\n      <td>0.0</td>\n      <td>0.0</td>\n      <td>0.0</td>\n      <td>0.0</td>\n      <td>0.0</td>\n      <td>0.0</td>\n      <td>0.0</td>\n      <td>2.667</td>\n      <td>3</td>\n    </tr>\n    <tr>\n      <th>2016-12-31 23:57:00</th>\n      <td>-5.78496</td>\n      <td>-2.02603</td>\n      <td>-2.64053</td>\n      <td>0.0</td>\n      <td>0.0</td>\n      <td>0.0</td>\n      <td>0.0</td>\n      <td>0.0</td>\n      <td>0.0</td>\n      <td>0.0</td>\n      <td>...</td>\n      <td>0.0</td>\n      <td>0.0</td>\n      <td>0.0</td>\n      <td>0.0</td>\n      <td>0.0</td>\n      <td>0.0</td>\n      <td>0.0</td>\n      <td>0.0</td>\n      <td>2.667</td>\n      <td>3</td>\n    </tr>\n    <tr>\n      <th>2016-12-31 23:58:00</th>\n      <td>-3.60551</td>\n      <td>-5.31124</td>\n      <td>-3.16447</td>\n      <td>0.0</td>\n      <td>0.0</td>\n      <td>0.0</td>\n      <td>0.0</td>\n      <td>0.0</td>\n      <td>0.0</td>\n      <td>0.0</td>\n      <td>...</td>\n      <td>0.0</td>\n      <td>0.0</td>\n      <td>0.0</td>\n      <td>0.0</td>\n      <td>0.0</td>\n      <td>0.0</td>\n      <td>0.0</td>\n      <td>0.0</td>\n      <td>2.667</td>\n      <td>3</td>\n    </tr>\n    <tr>\n      <th>2016-12-31 23:59:00</th>\n      <td>-4.61841</td>\n      <td>-4.52630</td>\n      <td>-3.05202</td>\n      <td>0.0</td>\n      <td>0.0</td>\n      <td>0.0</td>\n      <td>0.0</td>\n      <td>0.0</td>\n      <td>0.0</td>\n      <td>0.0</td>\n      <td>...</td>\n      <td>0.0</td>\n      <td>0.0</td>\n      <td>0.0</td>\n      <td>0.0</td>\n      <td>0.0</td>\n      <td>0.0</td>\n      <td>0.0</td>\n      <td>0.0</td>\n      <td>2.667</td>\n      <td>3</td>\n    </tr>\n  </tbody>\n</table>\n<p>283680 rows × 55 columns</p>\n</div>"
     },
     "execution_count": 14,
     "metadata": {},
     "output_type": "execute_result"
    }
   ],
   "source": [
    "df = pd.read_csv(os.path.join(os.path.curdir, \"data\", \"data_2016.csv\"))\n",
    "df = df.drop(columns=[\"Unnamed: 0.1\", \"Unnamed: 0\"])\n",
    "df.index = df[\"0\"]\n",
    "df.drop(columns=\"0\")"
   ],
   "metadata": {
    "collapsed": false
   }
  },
  {
   "cell_type": "code",
   "execution_count": null,
   "outputs": [],
   "source": [
    "def train_model(epochs, ts):\n",
    "    for _ in tqdm(epochs):\n",
    "        for x, y in np.shuffle(cv.split()):"
   ],
   "metadata": {
    "collapsed": false
   }
  },
  {
   "cell_type": "code",
   "execution_count": null,
   "outputs": [],
   "source": [
    "X_train, y_train = load_arrow_head(split=\"train\")\n",
    "\n",
    "TimeSeriesSplit(n_splits=3)\n",
    "\n",
    "\n",
    "minirocket_pipeline.fit(X_train, y_train)\n",
    "\n",
    "X_test, y_test = load_arrow_head(split=\"test\")\n",
    "\n",
    "minirocket_pipeline.score(X_test, y_test)"
   ],
   "metadata": {
    "collapsed": false
   }
  }
 ],
 "metadata": {
  "kernelspec": {
   "display_name": "Python 3",
   "language": "python",
   "name": "python3"
  },
  "language_info": {
   "codemirror_mode": {
    "name": "ipython",
    "version": 2
   },
   "file_extension": ".py",
   "mimetype": "text/x-python",
   "name": "python",
   "nbconvert_exporter": "python",
   "pygments_lexer": "ipython2",
   "version": "2.7.6"
  }
 },
 "nbformat": 4,
 "nbformat_minor": 0
}
